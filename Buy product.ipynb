{
 "cells": [
  {
   "cell_type": "markdown",
   "metadata": {},
   "source": [
    "# Read from Record JSON"
   ]
  },
  {
   "cell_type": "code",
   "execution_count": 5,
   "metadata": {},
   "outputs": [],
   "source": [
    "fd = open(\"record.json\",\"r\")\n",
    "txt = fd.read()\n",
    "fd.close()"
   ]
  },
  {
   "cell_type": "markdown",
   "metadata": {},
   "source": [
    "# Read from \"Sale\" JSON"
   ]
  },
  {
   "cell_type": "code",
   "execution_count": 10,
   "metadata": {},
   "outputs": [],
   "source": [
    "fd = open(\"sales.json\",\"r\")\n",
    "txt=fd.read()\n",
    "fd.close()\n",
    "\n",
    "sale=json.loads(txt)"
   ]
  },
  {
   "cell_type": "code",
   "execution_count": 6,
   "metadata": {},
   "outputs": [],
   "source": [
    "import json\n",
    "product = json.loads(txt)"
   ]
  },
  {
   "cell_type": "code",
   "execution_count": 7,
   "metadata": {},
   "outputs": [
    {
     "data": {
      "text/plain": [
       "{'1001': {'name': 'Keyboard', 'price': 350, 'quantity': 10},\n",
       " '1002': {'name': 'Mouse', 'price': 150, 'quantity': 20},\n",
       " '1003': {'name': 'Monitor', 'price': 5000, 'quantity': 10},\n",
       " '1004': {'name': 'CPU', 'price': 10000, 'quantity': 15},\n",
       " '1005': {'name': 'Sound', 'price': 2000, 'quantity': 10},\n",
       " '1006': {'name': 'Harddisk', 'price': 3000, 'quantity': 30},\n",
       " '1007': {'name': 'RAM', 'price': 2000, 'quantity': 20},\n",
       " '1008': {'name': 'Pendrive', 'price': 500, 'quantity': 30},\n",
       " '1009': {'name': 'Memory card', 'price': 150, 'quantity': 30},\n",
       " '10010': {'name': 'CD', 'price': 10, 'quantity': 50},\n",
       " '10011': {'name': 'DVD', 'price': 200, 'quantity': 100},\n",
       " '10012': {'name': 'Pen', 'price': 50, 'quantity': 100},\n",
       " '10013': {'name': 'Touchpad', 'price': 4000, 'quantity': 20},\n",
       " '10014': {'name': 'Graphics card', 'price': 4000, 'quantity': 20},\n",
       " '10015': {'name': 'Charger', 'price': 600, 'quantity': 10},\n",
       " '10016': {'name': 'Ethernet', 'price': 100, 'quantity': 50},\n",
       " '10017': {'name': 'Coaxial cable', 'price': 400, 'quantity': 30},\n",
       " '10018': {'name': 'fan', 'price': 500, 'quantity': 20},\n",
       " '10019': {'name': 'notebook', 'price': 50, 'quantity': 50},\n",
       " '10020': {'name': 'headphone', 'price': 550, 'quantity': 40},\n",
       " '10021': {'name': 'earbuds', 'price': 5000, 'quantity': 40},\n",
       " '10022': {'name': 'CN book', 'price': 800, 'quantity': 50},\n",
       " '10023': {'name': 'Laptop', 'price': 30, 'quantity': 20},\n",
       " '10024': {'name': 'Laptop', 'price': 50000, 'quantity': 40},\n",
       " '10025': {'name': 'router', 'price': 3300, 'quantity': 30},\n",
       " '10026': {'name': 'bluetooth', 'price': 900, 'quantity': 20},\n",
       " '10027': {'name': 'switches', 'price': 5000, 'quantity': 30},\n",
       " '10028': {'name': 'HUB', 'price': 3000, 'quantity': 30},\n",
       " '10029': {'name': 'Phone', 'price': 20000, 'quantity': 30},\n",
       " '10030': {'name': 'Mobile', 'price': 2000, 'quantity': 23}}"
      ]
     },
     "execution_count": 7,
     "metadata": {},
     "output_type": "execute_result"
    }
   ],
   "source": [
    "product"
   ]
  },
  {
   "cell_type": "markdown",
   "metadata": {},
   "source": [
    "# Update inventory after purchase"
   ]
  },
  {
   "cell_type": "code",
   "execution_count": 11,
   "metadata": {},
   "outputs": [
    {
     "name": "stdout",
     "output_type": "stream",
     "text": [
      "Enter Product ID: 1002\n",
      "Enter Product Quantity: 1\n",
      "----------------------------------------\n",
      "Product Name:  Mouse\n",
      "Product Price:  150\n",
      "Billing Amount:  150\n",
      "Enter your name: Abhishek\n",
      "Enter your address: pune\n",
      "\n",
      "Successfully placed order!!!\n",
      " This is your bill:\n",
      "-------------BILL---------------\n",
      "Name:  Abhishek\n",
      "Address:  pune\n",
      "Ordered Time:  Mon Sep  6 01:55:26 2021\n",
      "--------------------------------\n",
      "Product Name:  Mouse\n",
      "Product Price:  150\n",
      "Product Quantity:  1\n",
      "Billing Amount:  150\n",
      "Want to continue press 1...0\n"
     ]
    }
   ],
   "source": [
    "import time\n",
    "ch=1\n",
    "while(ch):\n",
    "    ui_id = str(input(\"Enter Product ID: \"))\n",
    "    ui_quant = int(input(\"Enter Product Quantity: \"))\n",
    "    if product[ui_id]['quantity'] >= ui_quant or ui_quant == 0: #Check whether stock is available or not and user cannot be enter quantity zero\n",
    "        print(\"----------------------------------------\")\n",
    "        print(\"Product Name: \",product[ui_id]['name'])\n",
    "        print(\"Product Price: \",product[ui_id]['price'])\n",
    "        print(\"Billing Amount: \",product[ui_id]['price']*ui_quant)\n",
    "        product[ui_id]['quantity'] = product[ui_id]['quantity']-ui_quant\n",
    "\n",
    "        js = json.dumps(product)  #Update inventory after purchase\n",
    "        fd = open(\"record.json\",\"w\")  \n",
    "        fd.write(js)\n",
    "        fd.close()\n",
    "        \n",
    "        uname = input(\"Enter your name: \") #Take user input\n",
    "        address = input(\"Enter your address: \")\n",
    "        order_time = time.ctime()\n",
    "        \n",
    "        sale[int(len(sale))+1] = {\"user_name\" :uname, \"address\": address, \"prod_name\" : product[ui_id]['name'], \"prod_quant\" : ui_quant, \"amount\":product[ui_id]['price']*ui_quant, \"order_time\": order_time}\n",
    "        js = json.dumps(sale)\n",
    "        fd = open(\"sales.json\",\"w\")\n",
    "        fd.write(js)\n",
    "        fd.close()\n",
    "        print(\"\\nSuccessfully placed order!!!\\n This is your bill:\")\n",
    "        \n",
    "        print(\"-------------BILL---------------\")\n",
    "        print(\"Name: \",uname)\n",
    "        print(\"Address: \",address)\n",
    "        print(\"Ordered Time: \",order_time)\n",
    "        print(\"--------------------------------\")\n",
    "        print(\"Product Name: \",product[ui_id]['name'])\n",
    "        print(\"Product Price: \",product[ui_id]['price'])\n",
    "        print(\"Product Quantity: \",ui_quant)\n",
    "        print(\"Billing Amount: \",product[ui_id]['price']*ui_quant)\n",
    "        \n",
    "\n",
    "    else:\n",
    "        print(\"Material shortage!!Please enter valid quantity.....\")\n",
    "    ch=int(input(\"Want to continue press 1...\"))\n",
    "\n",
    "fd = open(\"record.json\",\"r\")\n",
    "txt = fd.read()\n",
    "fd.close()\n"
   ]
  },
  {
   "cell_type": "code",
   "execution_count": 12,
   "metadata": {},
   "outputs": [
    {
     "data": {
      "text/plain": [
       "{'1': {'user_name': 'ASD',\n",
       "  'address': 'qq',\n",
       "  'prod_name': 'Keyboard',\n",
       "  'prod_quant': 1,\n",
       "  'amount': 350,\n",
       "  'order_time': 'Mon Sep  6 01:21:24 2021'},\n",
       " '2': {'user_name': 'Abhishek',\n",
       "  'address': 'Pune',\n",
       "  'prod_name': 'Mouse',\n",
       "  'prod_quant': 2,\n",
       "  'amount': 300,\n",
       "  'order_time': 'Mon Sep  6 01:23:45 2021'},\n",
       " '3': {'user_name': 'Sanket',\n",
       "  'address': 'Delhi',\n",
       "  'prod_name': 'Monitor',\n",
       "  'prod_quant': 1,\n",
       "  'amount': 5000,\n",
       "  'order_time': 'Mon Sep  6 01:24:40 2021'},\n",
       " '4': {'user_name': 'Omkar',\n",
       "  'address': 'Solapur',\n",
       "  'prod_name': 'CPU',\n",
       "  'prod_quant': 3,\n",
       "  'amount': 30000,\n",
       "  'order_time': 'Mon Sep  6 01:25:25 2021'},\n",
       " '5': {'user_name': 'Amit',\n",
       "  'address': 'Ahmednagar',\n",
       "  'prod_name': 'CPU',\n",
       "  'prod_quant': 2,\n",
       "  'amount': 20000,\n",
       "  'order_time': 'Mon Sep  6 01:26:21 2021'},\n",
       " '6': {'user_name': 'Mahesh',\n",
       "  'address': 'Kolhapur',\n",
       "  'prod_name': 'Printer',\n",
       "  'prod_quant': 2,\n",
       "  'amount': 12000,\n",
       "  'order_time': 'Mon Sep  6 01:26:55 2021'},\n",
       " '7': {'user_name': 'Nikhil',\n",
       "  'address': 'Dhule',\n",
       "  'prod_name': 'Scanner ',\n",
       "  'prod_quant': 2,\n",
       "  'amount': 8000,\n",
       "  'order_time': 'Mon Sep  6 01:27:58 2021'},\n",
       " '8': {'user_name': 'Yogesh',\n",
       "  'address': 'Pune',\n",
       "  'prod_name': 'Printer',\n",
       "  'prod_quant': 2,\n",
       "  'amount': 12000,\n",
       "  'order_time': 'Mon Sep  6 01:30:23 2021'},\n",
       " '9': {'user_name': 'Mandar',\n",
       "  'address': 'Satara',\n",
       "  'prod_name': 'Printer',\n",
       "  'prod_quant': 4,\n",
       "  'amount': 24000,\n",
       "  'order_time': 'Mon Sep  6 01:30:56 2021'},\n",
       " '10': {'user_name': 'Abhi',\n",
       "  'address': 'Karjat',\n",
       "  'prod_name': 'Printer',\n",
       "  'prod_quant': 4,\n",
       "  'amount': 24000,\n",
       "  'order_time': 'Mon Sep  6 01:31:16 2021'},\n",
       " '11': {'user_name': 'Abhishek',\n",
       "  'address': 'pune',\n",
       "  'prod_name': 'Mouse',\n",
       "  'prod_quant': 1,\n",
       "  'amount': 150,\n",
       "  'order_time': 'Mon Sep  6 01:55:26 2021'}}"
      ]
     },
     "execution_count": 12,
     "metadata": {},
     "output_type": "execute_result"
    }
   ],
   "source": [
    "fd = open(\"sales.json\",\"r\")\n",
    "txt=fd.read()\n",
    "fd.close()\n",
    "\n",
    "sale=json.loads(txt)\n",
    "sale"
   ]
  },
  {
   "cell_type": "code",
   "execution_count": null,
   "metadata": {},
   "outputs": [],
   "source": []
  }
 ],
 "metadata": {
  "kernelspec": {
   "display_name": "Python 3",
   "language": "python",
   "name": "python3"
  },
  "language_info": {
   "codemirror_mode": {
    "name": "ipython",
    "version": 3
   },
   "file_extension": ".py",
   "mimetype": "text/x-python",
   "name": "python",
   "nbconvert_exporter": "python",
   "pygments_lexer": "ipython3",
   "version": "3.8.3"
  }
 },
 "nbformat": 4,
 "nbformat_minor": 4
}
