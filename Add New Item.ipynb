{
 "cells": [
  {
   "cell_type": "code",
   "execution_count": 10,
   "metadata": {},
   "outputs": [],
   "source": [
    "product={\n",
    "            1001 : {'name' : 'Keyboard', 'price' : 350, 'quantity' : 10},\n",
    "            1002 : {'name' : 'Mouse', 'price' : 150, 'quantity' : 20},\n",
    "            1003 : {'name' : 'Monitor', 'price' : 5000, 'quantity' : 10},\n",
    "            1004 : {'name' : 'CPU', 'price' : 10000, 'quantity' : 15}\n",
    "}"
   ]
  },
  {
   "cell_type": "code",
   "execution_count": 11,
   "metadata": {},
   "outputs": [
    {
     "data": {
      "text/plain": [
       "{1001: {'name': 'Keyboard', 'price': 350, 'quantity': 10},\n",
       " 1002: {'name': 'Mouse', 'price': 150, 'quantity': 20},\n",
       " 1003: {'name': 'Monitor', 'price': 5000, 'quantity': 10},\n",
       " 1004: {'name': 'CPU', 'price': 10000, 'quantity': 15}}"
      ]
     },
     "execution_count": 11,
     "metadata": {},
     "output_type": "execute_result"
    }
   ],
   "source": [
    "product"
   ]
  },
  {
   "cell_type": "markdown",
   "metadata": {},
   "source": [
    "# Writing In json File"
   ]
  },
  {
   "cell_type": "code",
   "execution_count": 12,
   "metadata": {},
   "outputs": [],
   "source": [
    "import json"
   ]
  },
  {
   "cell_type": "code",
   "execution_count": 13,
   "metadata": {},
   "outputs": [],
   "source": [
    "js = json.dumps(product) #create json formatted content i.e. TXT"
   ]
  },
  {
   "cell_type": "code",
   "execution_count": 14,
   "metadata": {},
   "outputs": [
    {
     "data": {
      "text/plain": [
       "'{\"1001\": {\"name\": \"Keyboard\", \"price\": 350, \"quantity\": 10}, \"1002\": {\"name\": \"Mouse\", \"price\": 150, \"quantity\": 20}, \"1003\": {\"name\": \"Monitor\", \"price\": 5000, \"quantity\": 10}, \"1004\": {\"name\": \"CPU\", \"price\": 10000, \"quantity\": 15}}'"
      ]
     },
     "execution_count": 14,
     "metadata": {},
     "output_type": "execute_result"
    }
   ],
   "source": [
    "js #str type"
   ]
  },
  {
   "cell_type": "code",
   "execution_count": 15,
   "metadata": {},
   "outputs": [],
   "source": [
    "fd = open(\"record.json\", 'w' )\n",
    "fd.write(js)\n",
    "fd.close()"
   ]
  },
  {
   "cell_type": "markdown",
   "metadata": {},
   "source": [
    "\n",
    "# Read Data from JSON"
   ]
  },
  {
   "cell_type": "code",
   "execution_count": 16,
   "metadata": {},
   "outputs": [],
   "source": [
    "fd = open(\"record.json\",'r')\n",
    "txt = fd.read()\n",
    "fd.close()"
   ]
  },
  {
   "cell_type": "code",
   "execution_count": 17,
   "metadata": {},
   "outputs": [],
   "source": [
    "record = json.loads(txt)"
   ]
  },
  {
   "cell_type": "code",
   "execution_count": 18,
   "metadata": {},
   "outputs": [
    {
     "data": {
      "text/plain": [
       "{'1001': {'name': 'Keyboard', 'price': 350, 'quantity': 10},\n",
       " '1002': {'name': 'Mouse', 'price': 150, 'quantity': 20},\n",
       " '1003': {'name': 'Monitor', 'price': 5000, 'quantity': 10},\n",
       " '1004': {'name': 'CPU', 'price': 10000, 'quantity': 15}}"
      ]
     },
     "execution_count": 18,
     "metadata": {},
     "output_type": "execute_result"
    }
   ],
   "source": [
    "record"
   ]
  },
  {
   "cell_type": "code",
   "execution_count": 19,
   "metadata": {},
   "outputs": [
    {
     "data": {
      "text/plain": [
       "4"
      ]
     },
     "execution_count": 19,
     "metadata": {},
     "output_type": "execute_result"
    }
   ],
   "source": [
    "len(record)"
   ]
  },
  {
   "cell_type": "markdown",
   "metadata": {},
   "source": [
    "# ADD NEW ITEM INTO INVENTORY"
   ]
  },
  {
   "cell_type": "code",
   "execution_count": 61,
   "metadata": {},
   "outputs": [
    {
     "name": "stdout",
     "output_type": "stream",
     "text": [
      "Enter Product Name:Mobile\n",
      "Enter Product Price:2000\n",
      "Enter Product Quantity:23\n"
     ]
    }
   ],
   "source": [
    "prod_id = '100'+str(len(record)+1)\n",
    "prod_name = str(input(\"Enter Product Name:\"))\n",
    "prod_price = int(input(\"Enter Product Price:\"))\n",
    "prod_quan = int(input(\"Enter Product Quantity:\"))\n",
    "\n",
    "record[prod_id] = {'name': prod_name, 'price': prod_price, 'quantity': prod_quan}\n",
    "\n",
    "js = json.dumps(record)\n",
    "\n",
    "fd = open(\"record.json\",\"w\")\n",
    "fd.write(js)\n",
    "fd.close()"
   ]
  },
  {
   "cell_type": "code",
   "execution_count": 62,
   "metadata": {},
   "outputs": [],
   "source": [
    "fd = open(\"record.json\",\"r\")\n",
    "txt = fd.read()\n",
    "fd.close()"
   ]
  },
  {
   "cell_type": "code",
   "execution_count": 63,
   "metadata": {},
   "outputs": [],
   "source": [
    "record = json.loads(txt) #Convert json (str) into dictionary"
   ]
  },
  {
   "cell_type": "code",
   "execution_count": 64,
   "metadata": {},
   "outputs": [
    {
     "data": {
      "text/plain": [
       "{'1001': {'name': 'Keyboard', 'price': 350, 'quantity': 10},\n",
       " '1002': {'name': 'Mouse', 'price': 150, 'quantity': 20},\n",
       " '1003': {'name': 'Monitor', 'price': 5000, 'quantity': 10},\n",
       " '1004': {'name': 'CPU', 'price': 10000, 'quantity': 15},\n",
       " '1005': {'name': 'Sound', 'price': 2000, 'quantity': 10},\n",
       " '1006': {'name': 'Harddisk', 'price': 3000, 'quantity': 30},\n",
       " '1007': {'name': 'RAM', 'price': 2000, 'quantity': 20},\n",
       " '1008': {'name': 'Pendrive', 'price': 500, 'quantity': 30},\n",
       " '1009': {'name': 'Memory card', 'price': 150, 'quantity': 30},\n",
       " '10010': {'name': 'CD', 'price': 10, 'quantity': 50},\n",
       " '10011': {'name': 'DVD', 'price': 200, 'quantity': 100},\n",
       " '10012': {'name': 'Pen', 'price': 50, 'quantity': 100},\n",
       " '10013': {'name': 'Touchpad', 'price': 4000, 'quantity': 20},\n",
       " '10014': {'name': 'Graphics card', 'price': 4000, 'quantity': 20},\n",
       " '10015': {'name': 'Charger', 'price': 600, 'quantity': 10},\n",
       " '10016': {'name': 'Ethernet', 'price': 100, 'quantity': 50},\n",
       " '10017': {'name': 'Coaxial cable', 'price': 400, 'quantity': 30},\n",
       " '10018': {'name': 'fan', 'price': 500, 'quantity': 20},\n",
       " '10019': {'name': 'notebook', 'price': 50, 'quantity': 50},\n",
       " '10020': {'name': 'headphone', 'price': 550, 'quantity': 40},\n",
       " '10021': {'name': 'earbuds', 'price': 5000, 'quantity': 40},\n",
       " '10022': {'name': 'CN book', 'price': 800, 'quantity': 50},\n",
       " '10023': {'name': 'Laptop', 'price': 30, 'quantity': 20},\n",
       " '10024': {'name': 'Laptop', 'price': 50000, 'quantity': 40},\n",
       " '10025': {'name': 'router', 'price': 3300, 'quantity': 30},\n",
       " '10026': {'name': 'bluetooth', 'price': 900, 'quantity': 20},\n",
       " '10027': {'name': 'switches', 'price': 5000, 'quantity': 30},\n",
       " '10028': {'name': 'HUB', 'price': 3000, 'quantity': 30},\n",
       " '10029': {'name': 'Phone', 'price': 20000, 'quantity': 30},\n",
       " '10030': {'name': 'Mobile', 'price': 2000, 'quantity': 23}}"
      ]
     },
     "execution_count": 64,
     "metadata": {},
     "output_type": "execute_result"
    }
   ],
   "source": [
    "record"
   ]
  },
  {
   "cell_type": "code",
   "execution_count": null,
   "metadata": {},
   "outputs": [],
   "source": []
  }
 ],
 "metadata": {
  "kernelspec": {
   "display_name": "Python 3",
   "language": "python",
   "name": "python3"
  },
  "language_info": {
   "codemirror_mode": {
    "name": "ipython",
    "version": 3
   },
   "file_extension": ".py",
   "mimetype": "text/x-python",
   "name": "python",
   "nbconvert_exporter": "python",
   "pygments_lexer": "ipython3",
   "version": "3.8.3"
  }
 },
 "nbformat": 4,
 "nbformat_minor": 4
}
